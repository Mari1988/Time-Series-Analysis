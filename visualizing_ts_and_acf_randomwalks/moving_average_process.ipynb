{
 "cells": [
  {
   "cell_type": "markdown",
   "metadata": {},
   "source": [
    "### Introduction to Moving Average processes\n",
    "    In moving average process x(t) is a function of z(t) and noises from previous time-steps upto lag 'q'\n",
    "    that's called MA(q) process.\n",
    "    ie, x(t) = z(t)+b1*z(t-1)+b2*z(t-2)+....+bq*z(t-q)\n",
    "    \n",
    "        X(t) = Z(t) + \\Sum_{i=1 to q} bi*Z(i)"
   ]
  },
  {
   "cell_type": "code",
   "execution_count": 8,
   "metadata": {},
   "outputs": [
    {
     "data": {
      "text/plain": [
       "\n",
       "Autocorrelations of series '(ma2)', by lag\n",
       "\n",
       "     1      2      3      4      5      6      7      8      9     10     11 \n",
       " 0.492  0.318 -0.016 -0.028 -0.009 -0.008 -0.001 -0.005 -0.001 -0.009 -0.006 \n",
       "    12     13     14     15     16     17     18     19     20     21     22 \n",
       "-0.012 -0.006 -0.001  0.012  0.016  0.030  0.011  0.010 -0.014 -0.013 -0.019 \n",
       "    23     24     25     26     27     28     29     30     31     32     33 \n",
       "-0.015 -0.014 -0.002  0.007  0.016  0.013  0.010  0.007  0.010  0.010  0.017 \n",
       "    34     35     36     37     38     39 \n",
       " 0.017  0.016  0.010  0.014  0.015  0.006 "
      ]
     },
     "metadata": {},
     "output_type": "display_data"
    },
    {
     "data": {
      "image/png": "[encoded data removed]",
      "text/plain": [
       "Plot with title \"Series (ma2)\""
      ]
     },
     "metadata": {},
     "output_type": "display_data"
    }
   ],
   "source": [
    "#Simulate MA(2) process in R\n",
    "#create random standard normal variable \n",
    "noise = rnorm(10000)\n",
    "\n",
    "#create a time-series with ma(2)\n",
    "x <- NULL\n",
    "for(i in 3:10000){ x[i] <- noise[i]+.5*noise[i-1]+.5*noise[i-2] }\n",
    "\n",
    "#ma2 object\n",
    "ma2 <- x[3:10000]\n",
    "\n",
    "#plot the time-series as well as the acf\n",
    "par(mfrow = c(2,1))\n",
    "plot(ts(ma2),xlab='ma2 process')\n",
    "(acf((ma2),xlab='acf of ma2 process')) #acf plot suggests that there is an auto-correlation at lag 1 and 2\n"
   ]
  },
  {
   "cell_type": "code",
   "execution_count": 4,
   "metadata": {},
   "outputs": [
    {
     "name": "stderr",
     "output_type": "stream",
     "text": [
      "Loading required package: leaps\n",
      "Loading required package: locfit\n",
      "locfit 1.5-9.1 \t 2013-03-22\n",
      "Loading required package: mgcv\n",
      "Loading required package: nlme\n",
      "This is mgcv 1.8-22. For overview type 'help(\"mgcv-package\")'.\n",
      "Loading required package: tseries\n",
      "\n",
      "Attaching package: 'TSA'\n",
      "\n",
      "The following objects are masked from 'package:stats':\n",
      "\n",
      "    acf, arima\n",
      "\n",
      "The following object is masked from 'package:utils':\n",
      "\n",
      "    tar\n",
      "\n"
     ]
    },
    {
     "data": {
      "text/plain": [
       "\n",
       "\tBox-Ljung test\n",
       "\n",
       "data:  ma2\n",
       "X-squared = 2444.2, df = 1, p-value < 2.2e-16\n"
      ]
     },
     "metadata": {},
     "output_type": "display_data"
    }
   ],
   "source": [
    "#install.packages('TSA')\n",
    "library(TSA)\n",
    "#'Ljung-Box' box-test for the whiteness diagnostics\n",
    "\n",
    "Box.test(ma2,type = 'Ljung-Box',lag=1)"
   ]
  },
  {
   "cell_type": "code",
   "execution_count": null,
   "metadata": {},
   "outputs": [],
   "source": []
  }
 ],
 "metadata": {
  "kernelspec": {
   "display_name": "R",
   "language": "R",
   "name": "ir"
  },
  "language_info": {
   "codemirror_mode": "r",
   "file_extension": ".r",
   "mimetype": "text/x-r-source",
   "name": "R",
   "pygments_lexer": "r",
   "version": "3.4.3"
  }
 },
 "nbformat": 4,
 "nbformat_minor": 2
}
