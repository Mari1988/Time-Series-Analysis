{
 "cells": [
  {
   "cell_type": "markdown",
   "metadata": {},
   "source": [
    "### Objective of this notebook\n",
    "        1. Define a Random Variable and covariance between two random variables\n",
    "        2. Characterize time-series as a realization of a stochastic process\n",
    "        3. Define autocovariance function"
   ]
  },
  {
   "cell_type": "markdown",
   "metadata": {},
   "source": [
    "### Random Variable\n",
    "RV is a function that goes from sample-space to real-space\n",
    "            ** X : S -> R ** <br>\n",
    "note : sample-space of an experiment is the set with all possible outcome of an experiment\n",
    "We can think of it as a machine which produces these real-numbers. Why is it so important ? Once we know something about our data-set, we can infer about the population"
   ]
  },
  {
   "cell_type": "markdown",
   "metadata": {},
   "source": []
  }
 ],
 "metadata": {
  "kernelspec": {
   "display_name": "R",
   "language": "R",
   "name": "ir"
  },
  "language_info": {
   "codemirror_mode": "r",
   "file_extension": ".r",
   "mimetype": "text/x-r-source",
   "name": "R",
   "pygments_lexer": "r",
   "version": "3.4.3"
  }
 },
 "nbformat": 4,
 "nbformat_minor": 2
}
