{
 "cells": [
  {
   "cell_type": "markdown",
   "metadata": {},
   "source": [
    "## Objectives : Review basic inferential statistics\n",
    "1. Develop graphical intution\n",
    "2. Review hypothesis testing & confidence intervals\n",
    "We will be looking at **Gosset** sleep data"
   ]
  },
  {
   "cell_type": "code",
   "execution_count": 1,
   "metadata": {},
   "outputs": [
    {
     "data": {
      "text/html": [
       "<table>\n",
       "<thead><tr><th scope=col>extra</th><th scope=col>group</th><th scope=col>ID</th></tr></thead>\n",
       "<tbody>\n",
       "\t<tr><td> 0.7</td><td>1   </td><td>1   </td></tr>\n",
       "\t<tr><td>-1.6</td><td>1   </td><td>2   </td></tr>\n",
       "\t<tr><td>-0.2</td><td>1   </td><td>3   </td></tr>\n",
       "\t<tr><td>-1.2</td><td>1   </td><td>4   </td></tr>\n",
       "\t<tr><td>-0.1</td><td>1   </td><td>5   </td></tr>\n",
       "\t<tr><td> 3.4</td><td>1   </td><td>6   </td></tr>\n",
       "</tbody>\n",
       "</table>\n"
      ],
      "text/latex": [
       "\\begin{tabular}{r|lll}\n",
       " extra & group & ID\\\\\n",
       "\\hline\n",
       "\t  0.7 & 1    & 1   \\\\\n",
       "\t -1.6 & 1    & 2   \\\\\n",
       "\t -0.2 & 1    & 3   \\\\\n",
       "\t -1.2 & 1    & 4   \\\\\n",
       "\t -0.1 & 1    & 5   \\\\\n",
       "\t  3.4 & 1    & 6   \\\\\n",
       "\\end{tabular}\n"
      ],
      "text/markdown": [
       "\n",
       "extra | group | ID | \n",
       "|---|---|---|---|---|---|\n",
       "|  0.7 | 1    | 1    | \n",
       "| -1.6 | 1    | 2    | \n",
       "| -0.2 | 1    | 3    | \n",
       "| -1.2 | 1    | 4    | \n",
       "| -0.1 | 1    | 5    | \n",
       "|  3.4 | 1    | 6    | \n",
       "\n",
       "\n"
      ],
      "text/plain": [
       "  extra group ID\n",
       "1  0.7  1     1 \n",
       "2 -1.6  1     2 \n",
       "3 -0.2  1     3 \n",
       "4 -1.2  1     4 \n",
       "5 -0.1  1     5 \n",
       "6  3.4  1     6 "
      ]
     },
     "metadata": {},
     "output_type": "display_data"
    }
   ],
   "source": [
    "#help(sleep) #Data which show the effect of two soporific drugs (increase in hours of sleep compared to control) on 10 patients.\n",
    "\n",
    "head(sleep)\n",
    "#A data frame with 20 observations on 3 variables.\n",
    "\n",
    "#[, 1]\textra\tnumeric\tincrease in hours of sleep (extra hours of sleep)\n",
    "#[, 2]\tgroup\tfactor\tdrug given (drug-id)\n",
    "#[, 3]\tID\tfactor\tpatient ID (patient-id)"
   ]
  },
  {
   "cell_type": "code",
   "execution_count": 2,
   "metadata": {},
   "outputs": [
    {
     "data": {
      "image/png": "[encoded data removed]",
      "text/plain": [
       "Plot with title \"extra sleep hours vs drug-id\""
      ]
     },
     "metadata": {},
     "output_type": "display_data"
    }
   ],
   "source": [
    "#let's plot the data\n",
    "plot(extra ~ group, data=sleep,main='extra sleep hours vs drug-id')"
   ]
  },
  {
   "cell_type": "markdown",
   "metadata": {},
   "source": [
    "#### remember that bold line in above box-plot is median and not mean\n",
    "#### box represents inter-quartile range (50% of data points)"
   ]
  },
  {
   "cell_type": "code",
   "execution_count": 3,
   "metadata": {},
   "outputs": [],
   "source": [
    "attach(sleep)\n",
    "extra.1 = extra[group==1]\n",
    "extra.2 = extra[group==2]"
   ]
  },
  {
   "cell_type": "markdown",
   "metadata": {},
   "source": [
    "## Independence (difference) test between two drug effects\n",
    "### Though it is very obvious from the above box plot that drug-2 is effective compared to drug-2, let's run a hypothesis test to understand the difference"
   ]
  },
  {
   "cell_type": "code",
   "execution_count": 4,
   "metadata": {},
   "outputs": [
    {
     "data": {
      "text/plain": [
       "\n",
       "\tPaired t-test\n",
       "\n",
       "data:  extra.1 and extra.2\n",
       "t = -4.0621, df = 9, p-value = 0.002833\n",
       "alternative hypothesis: true difference in means is not equal to 0\n",
       "95 percent confidence interval:\n",
       " -2.4598858 -0.7001142\n",
       "sample estimates:\n",
       "mean of the differences \n",
       "                  -1.58 \n"
      ]
     },
     "metadata": {},
     "output_type": "display_data"
    }
   ],
   "source": [
    "#Test our hypothesis that two drugs are different\n",
    "### Hypothesis test of independence\n",
    "t.test(extra.1,extra.2,paired = T,alternative = 'two.sided')\n",
    "#null hupothesis is that 'true-difference' is zero (ie, the mean response for both drugs are same)\n",
    "# t-value is too-off (like almost 4 standard deviations from mean)\n",
    "# also p-value is too small that we can reject the null-hypothesis\n",
    "# so there is a clear difference between two drugs"
   ]
  },
  {
   "cell_type": "markdown",
   "metadata": {},
   "source": [
    "### Another way is to look at the confidence intervals and see if it includes zero in its range\n",
    "-2.4598858 to -0.7001142 does not include zero - so our null hypothesis is not true"
   ]
  },
  {
   "cell_type": "markdown",
   "metadata": {},
   "source": [
    "### let's unpack the above output !\n",
    "    1. null hypothesis H_0 : mean response is same for both drugs\n",
    "                    H_0 = mu(drug1)-mu(drug2)=0\n",
    "    2. alternative hypothesis H_1 : mean response is different for both drugs\n",
    "                    H_0 = mu(drug1)-mu(drug2) != 0\n",
    "                   "
   ]
  },
  {
   "cell_type": "code",
   "execution_count": 18,
   "metadata": {},
   "outputs": [
    {
     "data": {
      "text/html": [
       "-1.58"
      ],
      "text/latex": [
       "-1.58"
      ],
      "text/markdown": [
       "-1.58"
      ],
      "text/plain": [
       "[1] -1.58"
      ]
     },
     "metadata": {},
     "output_type": "display_data"
    }
   ],
   "source": [
    "mean(extra.1-extra.2) \n",
    "#Average of differences"
   ]
  },
  {
   "cell_type": "markdown",
   "metadata": {},
   "source": [
    "### alpha (p-value) is the probality of Type I error\n",
    "The probability that 'when null hypothesis is TRUE and we are rejecting it'"
   ]
  },
  {
   "cell_type": "code",
   "execution_count": 32,
   "metadata": {},
   "outputs": [
    {
     "data": {
      "text/html": [
       "1.22999548327987"
      ],
      "text/latex": [
       "1.22999548327987"
      ],
      "text/markdown": [
       "1.22999548327987"
      ],
      "text/plain": [
       "[1] 1.229995"
      ]
     },
     "metadata": {},
     "output_type": "display_data"
    },
    {
     "data": {
      "text/html": [
       "'t-value is -4.06212768338204'"
      ],
      "text/latex": [
       "'t-value is -4.06212768338204'"
      ],
      "text/markdown": [
       "'t-value is -4.06212768338204'"
      ],
      "text/plain": [
       "[1] \"t-value is -4.06212768338204\""
      ]
     },
     "metadata": {},
     "output_type": "display_data"
    }
   ],
   "source": [
    "#Let's calculate the t-value\n",
    "# t-value = [avg(differences of responses of two groups)-nullHypothesisValue]/[sample Standard deviation of differences/sqrt(n)]\n",
    "\n",
    "dbar <- mean(extra.1-extra.2)\n",
    "nullHyp <- 0\n",
    "sd_dbar <- sd(extra.1-extra.2)\n",
    "tval <- (dbar-nullHyp)/(sd_dbar/sqrt(length(extra.1)))\n",
    "paste0('t-value is ',tval)\n"
   ]
  },
  {
   "cell_type": "code",
   "execution_count": 27,
   "metadata": {},
   "outputs": [
    {
     "data": {
      "text/html": [
       "'since p-val 0.0028 is less than the threshold(.05), we can reject the H0'"
      ],
      "text/latex": [
       "'since p-val 0.0028 is less than the threshold(.05), we can reject the H0'"
      ],
      "text/markdown": [
       "'since p-val 0.0028 is less than the threshold(.05), we can reject the H0'"
      ],
      "text/plain": [
       "[1] \"since p-val 0.0028 is less than the threshold(.05), we can reject the H0\""
      ]
     },
     "metadata": {},
     "output_type": "display_data"
    }
   ],
   "source": [
    "#let's calculate the p-value corresponding to the t-value\n",
    "pval <- 2*pt(tval,df=length(extra.1)-1) \n",
    "paste0('since p-val ',round(pval,4), ' is less than the threshold(.05), we can reject the H0')"
   ]
  },
  {
   "cell_type": "markdown",
   "metadata": {},
   "source": [
    "## classic 'paired differences test'"
   ]
  },
  {
   "cell_type": "code",
   "execution_count": 28,
   "metadata": {},
   "outputs": [
    {
     "data": {
      "image/png": "[encoded data removed]",
      "text/plain": [
       "Plot with title \"Normal Q-Q Plot\""
      ]
     },
     "metadata": {},
     "output_type": "display_data"
    }
   ],
   "source": [
    "bpm.before = c(64, 45, 51, 56, 76, 77, 48, 65, 88, 37, 49, 71, 63, 57, 43); \n",
    "bpm.after = c(82, 63, 64, 71, 91, 99, 66, 85, 100, 52, 59, 84, 73 ,75, 58 ); \n",
    "qqnorm( bpm.after - bpm.before); \n",
    "qqline(bpm.after - bpm.before)"
   ]
  },
  {
   "cell_type": "code",
   "execution_count": 29,
   "metadata": {},
   "outputs": [
    {
     "data": {
      "text/plain": [
       "\n",
       "\tPaired t-test\n",
       "\n",
       "data:  bpm.before and bpm.after\n",
       "t = -17.005, df = 14, p-value = 9.579e-11\n",
       "alternative hypothesis: true difference in means is not equal to 0\n",
       "95 percent confidence interval:\n",
       " -17.41748 -13.51585\n",
       "sample estimates:\n",
       "mean of the differences \n",
       "              -15.46667 \n"
      ]
     },
     "metadata": {},
     "output_type": "display_data"
    }
   ],
   "source": [
    "### Hypothesis test of independence\n",
    "t.test(bpm.before,bpm.after,paired = T,alternative = 'two.sided')"
   ]
  },
  {
   "cell_type": "markdown",
   "metadata": {},
   "source": [
    "## General framework for Hypothesis testing\n",
    "    1. define the test statistic (such as Z,t,Chi-Squarred and F)\n",
    "    2. calculate the p-value associated with the test-statistic\n",
    "    3. if p-val < alpha reject H0 else failed to reject H0\n"
   ]
  },
  {
   "cell_type": "markdown",
   "metadata": {},
   "source": [
    "### How is confidence interval computed \n",
    "    * Confidence interval is a function of 'Estimate, t-value for the alpha/2, standard error'\n",
    "*******************************************************************************************************\n",
    "                    confidence_interval = Estimate +/- t(alpha/2) + standard_error\n",
    "                    standard_error = standard deviation/sqrt(n)\n",
    "*******************************************************************************************************"
   ]
  },
  {
   "cell_type": "code",
   "execution_count": 45,
   "metadata": {},
   "outputs": [
    {
     "data": {
      "text/html": [
       "'-2.45988576327698 to -0.700114236723018'"
      ],
      "text/latex": [
       "'-2.45988576327698 to -0.700114236723018'"
      ],
      "text/markdown": [
       "'-2.45988576327698 to -0.700114236723018'"
      ],
      "text/plain": [
       "[1] \"-2.45988576327698 to -0.700114236723018\""
      ]
     },
     "metadata": {},
     "output_type": "display_data"
    }
   ],
   "source": [
    "c_interval_ub <- dbar + (qt(.975,9) * (sd(extra.1-extra.2)/sqrt(length(extra.1)) ))\n",
    "c_interval_lb <- dbar - (qt(.975,9) * (sd(extra.1-extra.2)/sqrt(length(extra.1)) ))\n",
    "paste0(c_interval_lb,' to ', c_interval_ub)"
   ]
  },
  {
   "cell_type": "markdown",
   "metadata": {},
   "source": [
    "### Recall that 'Standard Error is the Standard deviation of the sampling distribution'"
   ]
  }
 ],
 "metadata": {
  "kernelspec": {
   "display_name": "R",
   "language": "R",
   "name": "ir"
  },
  "language_info": {
   "codemirror_mode": "r",
   "file_extension": ".r",
   "mimetype": "text/x-r-source",
   "name": "R",
   "pygments_lexer": "r",
   "version": "3.4.3"
  }
 },
 "nbformat": 4,
 "nbformat_minor": 2
}
