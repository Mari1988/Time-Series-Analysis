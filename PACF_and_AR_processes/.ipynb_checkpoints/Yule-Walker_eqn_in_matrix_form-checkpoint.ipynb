{
 "cells": [
  {
   "cell_type": "markdown",
   "metadata": {},
   "source": [
    "### Objective\n",
    "    To write down the Yule-Walker equations in Matrix Form\n"
   ]
  },
  {
   "cell_type": "markdown",
   "metadata": {},
   "source": [
    "As we already know the functional form of AR(p) process,\n",
    "\n",
    "$X_t = \\phi_1X_{t-1}+\\phi_2X_{t-2}+...+\\phi_pX_{t-p}+Z_t$\n",
    "\n",
    "Where, $Zt \\sim Normal(0,\\sigma_z^2)$\n",
    "\n",
    "** Yule Walker ** equation for the above equation is as follows,\n",
    "\n",
    "$\\rho(k) = \\phi_1\\rho(k-1)+\\phi_2\\rho(k-2)+...+\\phi_p\\rho(k-p)$\n",
    "\n",
    "Where, $\\rho(0)=1, k>=1$ and $\\rho(k) = \\rho(-k)$ for $k<0$"
   ]
  },
  {
   "cell_type": "markdown",
   "metadata": {},
   "source": [
    "### Matrix form of the Yule-Walker eqns of the AR(p) process\n",
    "<img src =\"matrix_form_Yule_Walker_eqns.PNG\">"
   ]
  },
  {
   "cell_type": "markdown",
   "metadata": {},
   "source": [
    "#### Sample ACF $r(k)$ is approximately equal to $\\rho(k)$\n",
    "\n",
    "<img src = \"sample_acf.PNG\">"
   ]
  },
  {
   "cell_type": "markdown",
   "metadata": {},
   "source": [
    "### Matrix $\\hat{R}$ and $R$ has nice following properties,\n",
    "\n",
    "    1. They are symmetric\n",
    "    2. Positive semi-definite\n",
    "    3. Non negative eigen values\n",
    "    4. Invertible\n",
    "    5. Thus unique solution exists"
   ]
  }
 ],
 "metadata": {
  "kernelspec": {
   "display_name": "R",
   "language": "R",
   "name": "ir"
  },
  "language_info": {
   "codemirror_mode": "r",
   "file_extension": ".r",
   "mimetype": "text/x-r-source",
   "name": "R",
   "pygments_lexer": "r",
   "version": "3.4.3"
  }
 },
 "nbformat": 4,
 "nbformat_minor": 2
}
