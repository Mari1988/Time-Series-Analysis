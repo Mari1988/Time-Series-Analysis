{
 "cells": [
  {
   "cell_type": "markdown",
   "metadata": {},
   "source": [
    "### Objective\n",
    "    1. Obtain Yule-Walker equations\n",
    "    2. Obtain ACF of AR process using Yule-Walker equations"
   ]
  },
  {
   "cell_type": "markdown",
   "metadata": {},
   "source": [
    "#### Yule-Walker equations\n",
    "\n",
    "Yule-Walker equations gives the association between 'Auto-correlation' function of AR process and the 'original' equation of 'AR process'\n",
    "\n",
    "for example,\n",
    "\n",
    "below AR process equation can be converted into the form of 'Auto-correlation' function of AR process\n",
    "\n",
    "$X_t = 1/3* X_{t-1}+1/2 *X_{t-2}+Z_t$\n",
    "\n",
    "to\n",
    "\n",
    "$\\rho(k) = 1/3* \\rho(k-1)+1/2 *\\rho(k-2) $   --> This set of equations is called 'Yule-Walker' equations"
   ]
  },
  {
   "cell_type": "markdown",
   "metadata": {},
   "source": [
    "#### how to solve the Yule-Walker equations\n",
    "\n",
    "Since Yule-Walker equations are in the form of difference equations, we can solve $\\rho(k)$ as $\\lambda^k$"
   ]
  },
  {
   "cell_type": "markdown",
   "metadata": {},
   "source": [
    "<img src=\"solve_yule-walker_eqns_part1.png\">"
   ]
  },
  {
   "cell_type": "markdown",
   "metadata": {},
   "source": [
    "##### to find c1 and c2, we are gonna use following constraints\n",
    "\n",
    "we know that auto-correlation at lag 0 is 1\n",
    "\n",
    "ie, $\\rho(0)=1$\n",
    "\n",
    "and since 'auto-correlation' function is a even function (ie, correlation depends only on the lag and not on the position of t's)\n",
    "ie, <br>\n",
    "\n",
    "$\\rho(k) = \\rho(-k)$   --> using this constraint we can find $\\rho(1)$"
   ]
  },
  {
   "cell_type": "markdown",
   "metadata": {},
   "source": [
    "<img src=\"solve_yule-walker_eqns_part2.png\">"
   ]
  },
  {
   "cell_type": "markdown",
   "metadata": {},
   "source": [
    "#### In other words, we obtain the ACF of the AR process after finding c1 and c2\n",
    "<img src = \"solve_yule-walker_eqns_part3.png\">"
   ]
  },
  {
   "cell_type": "markdown",
   "metadata": {},
   "source": [
    "#### So what have we learned\n",
    "\n",
    "    1. We learnt that Yule-Walker is a set of difference equations that governs ACF of the underlying AR process\n",
    "    2. Also we learnt how to compute ACF of AR process using Yule-Walker equations"
   ]
  }
 ],
 "metadata": {
  "kernelspec": {
   "display_name": "R",
   "language": "R",
   "name": "ir"
  },
  "language_info": {
   "codemirror_mode": "r",
   "file_extension": ".r",
   "mimetype": "text/x-r-source",
   "name": "R",
   "pygments_lexer": "r",
   "version": "3.4.3"
  }
 },
 "nbformat": 4,
 "nbformat_minor": 2
}
