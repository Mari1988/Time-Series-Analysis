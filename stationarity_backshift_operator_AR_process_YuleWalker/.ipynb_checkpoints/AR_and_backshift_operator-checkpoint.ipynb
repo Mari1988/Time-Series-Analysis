{
 "cells": [
  {
   "cell_type": "markdown",
   "metadata": {},
   "source": [
    "### Expressing AR process interms of backshift operator\n",
    "    \n",
    "    As we discussed the functional form of the AR(p) process is\n",
    "            \n",
    "            X(t) = Z(t)+phi1*X(t-1)+phi2*X(t-2)+...+phip*X(t-p)\n",
    "            where Z(t) is white noise Zt ~ iid(0,sigma^2)\n",
    "\n",
    "    Also we know that backshift operator, will shift the current-state to the previous-state when multiplied with current-state\n",
    "        ie,\n",
    "            B*X(t) = X(t-1)\n",
    "            B^2*X(t) = X(t-2)\n",
    "            ...\n",
    "            ...\n",
    "            B^p*X(t) = X(t-p)\n",
    "            \n",
    "    So let's express AR(p) process interms of backshift operator\n",
    "            X(t) = Z(t)+phi1*BX(t)+phi2*B^2X(t)+...+phip*B^pX(t)\n",
    "                 = Z(t)+X(t)(phi1*B+phi2*B^2+.....+phip*B^p)\n"
   ]
  },
  {
   "cell_type": "markdown",
   "metadata": {},
   "source": [
    "### Expressing AR(p) as an infinite order Moving Average process\n",
    "\n",
    "    from above expression, we can express random variable Z(t) as \n",
    "    \n",
    "        Z(t) = X(t)[1-phi1*B-phi2*B^2-...-phip*B^p]\n",
    "             = Phi(B)*X(t) \n",
    "        \n",
    "        and, \n",
    "        \n",
    "        X(t) = (1/[1-phi1*B-phi2*B^2-...-phip*B^p])*Z(t)\n",
    "            \n",
    "             = [1+theta1*B+theta2*B^2+...+thetap*B^p]*Z(t)                                          (ie, a/(1-r)=a+ar+ar^2+....) nothing but geometric sequence when |r| < 1\n",
    "             \n",
    "             = infinite order of moving average\n",
    "             \n",
    "  Thus we expressed AR(p) process as an inifinite order of MA process"
   ]
  }
 ],
 "metadata": {
  "kernelspec": {
   "display_name": "R",
   "language": "R",
   "name": "ir"
  },
  "language_info": {
   "codemirror_mode": "r",
   "file_extension": ".r",
   "mimetype": "text/x-r-source",
   "name": "R",
   "pygments_lexer": "r",
   "version": "3.4.3"
  }
 },
 "nbformat": 4,
 "nbformat_minor": 2
}
