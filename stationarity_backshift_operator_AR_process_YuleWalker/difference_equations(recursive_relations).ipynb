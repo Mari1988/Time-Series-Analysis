{
 "cells": [
  {
   "cell_type": "markdown",
   "metadata": {},
   "source": [
    "## Difference equations\n",
    "\n",
    "Objective \n",
    "    1. Is to recall general form of a sequence\n",
    "    2. Recursive form of a sequence\n",
    "    3. Solve recursive equations using Auxillary/Characteristic equations\n",
    "        "
   ]
  },
  {
   "cell_type": "markdown",
   "metadata": {},
   "source": [
    "    * General form of a sequence will look like a_n=2n+1\n",
    "                - using general form it is very straight forward to find elements of sequence (like: 3,5,7...)\n",
    "    * But sometimes general form is not given to us, instead recursive relation is given\n",
    "                - a_n = 5a_{n-1}-6a_{n-2}\n",
    "             * This is called difference equation(recursivve relation)\n",
    "    note : a_n means 'a sub n'"
   ]
  },
  {
   "cell_type": "markdown",
   "metadata": {},
   "source": [
    "###### how do we solve difference equation ? In the form of auxillary equation a_n = \\lambda^n    "
   ]
  },
  {
   "cell_type": "markdown",
   "metadata": {},
   "source": [
    "1. we are looking for a relation like $a^n = \\lambda^n$ <br>\n",
    "2. let's convert recursive relation $a_n = 5a_{n-1}-6a_{n-2}$ by substituting $a^n = \\lambda^n$ <br>\n",
    "3. $\\lambda^n=5\\lambda^{n-1}-6\\lambda^{n-2}$\n",
    "4. divide by $\\lambda^{n-2}$\n",
    "5. $\\lambda^2-5\\lambda+6$   --> this is called auxilary or characteristic equation\n",
    "6. solution (roots) for this quadratic equation will be in the form of $\\frac{-b\\pm\\sqrt{b^2-4ac}}{2a}$\n",
    "7. so we get $\\lambda=2,3$\n",
    "8. Now let's write $a^n$ as a linear combination of solutions of lambda ie, $a^n=c1*2^n+c2*3^n$\n",
    "9. Based on some initial conditions: $a^0$ and $a^1$ , c1 and c2 can be found \n",
    "10. after that, general form of the sequence can be obtained\n",
    "           \n",
    "   "
   ]
  },
  {
   "cell_type": "markdown",
   "metadata": {},
   "source": [
    "#### solution to kth order difference eqn"
   ]
  },
  {
   "cell_type": "markdown",
   "metadata": {},
   "source": [
    "<img src=\"kth_order_difference_eqns.png\">"
   ]
  }
 ],
 "metadata": {
  "kernelspec": {
   "display_name": "R",
   "language": "R",
   "name": "ir"
  },
  "language_info": {
   "codemirror_mode": "r",
   "file_extension": ".r",
   "mimetype": "text/x-r-source",
   "name": "R",
   "pygments_lexer": "r",
   "version": "3.4.3"
  }
 },
 "nbformat": 4,
 "nbformat_minor": 2
}
