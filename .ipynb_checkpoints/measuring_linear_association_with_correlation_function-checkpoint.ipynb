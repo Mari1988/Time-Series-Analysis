{
 "cells": [
  {
   "cell_type": "markdown",
   "metadata": {},
   "source": [
    "## Measure of linear association\n",
    "Objectives are\n",
    "    1. plot data pairwise and see if there exists linear association\n",
    "    2. calculate/interpret covariances and correlation"
   ]
  },
  {
   "cell_type": "markdown",
   "metadata": {},
   "source": [
    "help(trees)\n",
    "#Girth, Height and Volume for Black Cherry Trees\n",
    "A data frame with 31 observations on 3 variables.\n",
    "\n",
    "[,1]\tGirth\tnumeric\tTree diameter in inches <br>\n",
    "[,2]\tHeight\tnumeric\tHeight in ft <br>\n",
    "[,3]\tVolume\tnumeric\tVolume of timber in cubic ft <br>\n"
   ]
  },
  {
   "cell_type": "code",
   "execution_count": 3,
   "metadata": {},
   "outputs": [
    {
     "data": {
      "text/html": [
       "<table>\n",
       "<thead><tr><th scope=col>Girth</th><th scope=col>Height</th><th scope=col>Volume</th></tr></thead>\n",
       "<tbody>\n",
       "\t<tr><td> 8.3</td><td>70  </td><td>10.3</td></tr>\n",
       "\t<tr><td> 8.6</td><td>65  </td><td>10.3</td></tr>\n",
       "\t<tr><td> 8.8</td><td>63  </td><td>10.2</td></tr>\n",
       "\t<tr><td>10.5</td><td>72  </td><td>16.4</td></tr>\n",
       "\t<tr><td>10.7</td><td>81  </td><td>18.8</td></tr>\n",
       "\t<tr><td>10.8</td><td>83  </td><td>19.7</td></tr>\n",
       "</tbody>\n",
       "</table>\n"
      ],
      "text/latex": [
       "\\begin{tabular}{r|lll}\n",
       " Girth & Height & Volume\\\\\n",
       "\\hline\n",
       "\t  8.3 & 70   & 10.3\\\\\n",
       "\t  8.6 & 65   & 10.3\\\\\n",
       "\t  8.8 & 63   & 10.2\\\\\n",
       "\t 10.5 & 72   & 16.4\\\\\n",
       "\t 10.7 & 81   & 18.8\\\\\n",
       "\t 10.8 & 83   & 19.7\\\\\n",
       "\\end{tabular}\n"
      ],
      "text/markdown": [
       "\n",
       "Girth | Height | Volume | \n",
       "|---|---|---|---|---|---|\n",
       "|  8.3 | 70   | 10.3 | \n",
       "|  8.6 | 65   | 10.3 | \n",
       "|  8.8 | 63   | 10.2 | \n",
       "| 10.5 | 72   | 16.4 | \n",
       "| 10.7 | 81   | 18.8 | \n",
       "| 10.8 | 83   | 19.7 | \n",
       "\n",
       "\n"
      ],
      "text/plain": [
       "  Girth Height Volume\n",
       "1  8.3  70     10.3  \n",
       "2  8.6  65     10.3  \n",
       "3  8.8  63     10.2  \n",
       "4 10.5  72     16.4  \n",
       "5 10.7  81     18.8  \n",
       "6 10.8  83     19.7  "
      ]
     },
     "metadata": {},
     "output_type": "display_data"
    }
   ],
   "source": [
    "head(trees)"
   ]
  },
  {
   "cell_type": "code",
   "execution_count": 4,
   "metadata": {},
   "outputs": [
    {
     "data": {
      "image/png": "[encoded data removed]",
      "text/plain": [
       "plot without title"
      ]
     },
     "metadata": {},
     "output_type": "display_data"
    }
   ],
   "source": [
    "pairs(trees,pch=21,bg=c('red'))"
   ]
  },
  {
   "cell_type": "markdown",
   "metadata": {},
   "source": [
    "We could see that 'Girth' and 'Volume' are highly correlated (from visual pov)\n",
    "also 'Volume' and 'Height' are decently correlated too"
   ]
  },
  {
   "cell_type": "code",
   "execution_count": 6,
   "metadata": {},
   "outputs": [
    {
     "data": {
      "text/html": [
       "0.967119368255631"
      ],
      "text/latex": [
       "0.967119368255631"
      ],
      "text/markdown": [
       "0.967119368255631"
      ],
      "text/plain": [
       "[1] 0.9671194"
      ]
     },
     "metadata": {},
     "output_type": "display_data"
    },
    {
     "data": {
      "text/html": [
       "0.598249651991782"
      ],
      "text/latex": [
       "0.598249651991782"
      ],
      "text/markdown": [
       "0.598249651991782"
      ],
      "text/plain": [
       "[1] 0.5982497"
      ]
     },
     "metadata": {},
     "output_type": "display_data"
    }
   ],
   "source": [
    "cor(trees$Girth,trees$Volume)\n",
    "cor(trees$Height,trees$Volume)"
   ]
  },
  {
   "cell_type": "code",
   "execution_count": 8,
   "metadata": {},
   "outputs": [
    {
     "data": {
      "text/html": [
       "<table>\n",
       "<thead><tr><th></th><th scope=col>Girth</th><th scope=col>Height</th><th scope=col>Volume</th></tr></thead>\n",
       "<tbody>\n",
       "\t<tr><th scope=row>Girth</th><td>1.0000000</td><td>0.5192801</td><td>0.9671194</td></tr>\n",
       "\t<tr><th scope=row>Height</th><td>0.5192801</td><td>1.0000000</td><td>0.5982497</td></tr>\n",
       "\t<tr><th scope=row>Volume</th><td>0.9671194</td><td>0.5982497</td><td>1.0000000</td></tr>\n",
       "</tbody>\n",
       "</table>\n"
      ],
      "text/latex": [
       "\\begin{tabular}{r|lll}\n",
       "  & Girth & Height & Volume\\\\\n",
       "\\hline\n",
       "\tGirth & 1.0000000 & 0.5192801 & 0.9671194\\\\\n",
       "\tHeight & 0.5192801 & 1.0000000 & 0.5982497\\\\\n",
       "\tVolume & 0.9671194 & 0.5982497 & 1.0000000\\\\\n",
       "\\end{tabular}\n"
      ],
      "text/markdown": [
       "\n",
       "| <!--/--> | Girth | Height | Volume | \n",
       "|---|---|---|\n",
       "| Girth | 1.0000000 | 0.5192801 | 0.9671194 | \n",
       "| Height | 0.5192801 | 1.0000000 | 0.5982497 | \n",
       "| Volume | 0.9671194 | 0.5982497 | 1.0000000 | \n",
       "\n",
       "\n"
      ],
      "text/plain": [
       "       Girth     Height    Volume   \n",
       "Girth  1.0000000 0.5192801 0.9671194\n",
       "Height 0.5192801 1.0000000 0.5982497\n",
       "Volume 0.9671194 0.5982497 1.0000000"
      ]
     },
     "metadata": {},
     "output_type": "display_data"
    }
   ],
   "source": [
    "cor(trees)"
   ]
  },
  {
   "cell_type": "markdown",
   "metadata": {},
   "source": [
    "### note that covariance matrix is not the 'right' measure when units across dimensions are different\n",
    "    * for example height and volume are in different units\n",
    "    * Girth and Volume are in different units\n",
    "Comparing covariances among them is meaningless\n"
   ]
  },
  {
   "cell_type": "code",
   "execution_count": 9,
   "metadata": {},
   "outputs": [
    {
     "data": {
      "text/html": [
       "<table>\n",
       "<thead><tr><th></th><th scope=col>Girth</th><th scope=col>Height</th><th scope=col>Volume</th></tr></thead>\n",
       "<tbody>\n",
       "\t<tr><th scope=row>Girth</th><td> 9.847914</td><td>10.38333 </td><td> 49.88812</td></tr>\n",
       "\t<tr><th scope=row>Height</th><td>10.383333</td><td>40.60000 </td><td> 62.66000</td></tr>\n",
       "\t<tr><th scope=row>Volume</th><td>49.888118</td><td>62.66000 </td><td>270.20280</td></tr>\n",
       "</tbody>\n",
       "</table>\n"
      ],
      "text/latex": [
       "\\begin{tabular}{r|lll}\n",
       "  & Girth & Height & Volume\\\\\n",
       "\\hline\n",
       "\tGirth &  9.847914 & 10.38333  &  49.88812\\\\\n",
       "\tHeight & 10.383333 & 40.60000  &  62.66000\\\\\n",
       "\tVolume & 49.888118 & 62.66000  & 270.20280\\\\\n",
       "\\end{tabular}\n"
      ],
      "text/markdown": [
       "\n",
       "| <!--/--> | Girth | Height | Volume | \n",
       "|---|---|---|\n",
       "| Girth |  9.847914 | 10.38333  |  49.88812 | \n",
       "| Height | 10.383333 | 40.60000  |  62.66000 | \n",
       "| Volume | 49.888118 | 62.66000  | 270.20280 | \n",
       "\n",
       "\n"
      ],
      "text/plain": [
       "       Girth     Height   Volume   \n",
       "Girth   9.847914 10.38333  49.88812\n",
       "Height 10.383333 40.60000  62.66000\n",
       "Volume 49.888118 62.66000 270.20280"
      ]
     },
     "metadata": {},
     "output_type": "display_data"
    }
   ],
   "source": [
    "cov(trees)"
   ]
  },
  {
   "cell_type": "markdown",
   "metadata": {},
   "source": [
    "#### Though the correlation between Girth and Volume are quite high, their covariances are not (when compared to height and volume)"
   ]
  },
  {
   "cell_type": "markdown",
   "metadata": {},
   "source": [
    "### formulas :\n",
    "        1. Covariance is the average of products of deviations of two random variables\n",
    "                ie, cov(x,y) = 1/(n-1) * Sum((x-xbar)*(y-ybar))\n",
    "we are dividing by n-1 because to compute **unbiased** estimator of covariances"
   ]
  },
  {
   "cell_type": "code",
   "execution_count": 16,
   "metadata": {},
   "outputs": [
    {
     "name": "stdout",
     "output_type": "stream",
     "text": [
      "[1] \"covariance\"\n",
      "[1] 49.88812\n"
     ]
    }
   ],
   "source": [
    "cov_g_v <- (trees$Girth-mean(trees$Girth))*(trees$Volume-mean(trees$Volume))\n",
    "cov_g_v <- sum(cov_g_v)/(length(cov_g_v)-1)\n",
    "print('covariance')\n",
    "print(cov_g_v)\n"
   ]
  },
  {
   "cell_type": "markdown",
   "metadata": {},
   "source": [
    "### Centering and Scaling (to make it unitless) are done to compute correlation\n",
    "centering meaning 'mean centering'\n",
    "       1. correlation = 1/(n-1) * sum((x-xbar)/sd(x) * (y-ybar)/sd(y))"
   ]
  },
  {
   "cell_type": "code",
   "execution_count": 17,
   "metadata": {},
   "outputs": [
    {
     "name": "stdout",
     "output_type": "stream",
     "text": [
      "[1] \"correlation\"\n",
      "[1] 0.9671194\n"
     ]
    }
   ],
   "source": [
    "print('correlation')\n",
    "corr <- cov_g_v/(sd(trees$Girth)*sd(trees$Volume))\n",
    "print(corr)"
   ]
  }
 ],
 "metadata": {
  "kernelspec": {
   "display_name": "R",
   "language": "R",
   "name": "ir"
  },
  "language_info": {
   "codemirror_mode": "r",
   "file_extension": ".r",
   "mimetype": "text/x-r-source",
   "name": "R",
   "pygments_lexer": "r",
   "version": "3.4.3"
  }
 },
 "nbformat": 4,
 "nbformat_minor": 2
}
