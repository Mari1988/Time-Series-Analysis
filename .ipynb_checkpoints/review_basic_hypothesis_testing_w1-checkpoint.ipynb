{
 "cells": [
  {
   "cell_type": "markdown",
   "metadata": {},
   "source": [
    "## Objectives : Review basic inferential statistics\n",
    "1. Develop graphical intution\n",
    "2. Review hypothesis testing & confidence intervals\n",
    "We will be looking at **Gosset** sleep data"
   ]
  },
  {
   "cell_type": "code",
   "execution_count": 5,
   "metadata": {},
   "outputs": [
    {
     "data": {
      "text/html": [
       "<table>\n",
       "<thead><tr><th scope=col>extra</th><th scope=col>group</th><th scope=col>ID</th></tr></thead>\n",
       "<tbody>\n",
       "\t<tr><td> 0.7</td><td>1   </td><td>1   </td></tr>\n",
       "\t<tr><td>-1.6</td><td>1   </td><td>2   </td></tr>\n",
       "\t<tr><td>-0.2</td><td>1   </td><td>3   </td></tr>\n",
       "\t<tr><td>-1.2</td><td>1   </td><td>4   </td></tr>\n",
       "\t<tr><td>-0.1</td><td>1   </td><td>5   </td></tr>\n",
       "\t<tr><td> 3.4</td><td>1   </td><td>6   </td></tr>\n",
       "</tbody>\n",
       "</table>\n"
      ],
      "text/latex": [
       "\\begin{tabular}{r|lll}\n",
       " extra & group & ID\\\\\n",
       "\\hline\n",
       "\t  0.7 & 1    & 1   \\\\\n",
       "\t -1.6 & 1    & 2   \\\\\n",
       "\t -0.2 & 1    & 3   \\\\\n",
       "\t -1.2 & 1    & 4   \\\\\n",
       "\t -0.1 & 1    & 5   \\\\\n",
       "\t  3.4 & 1    & 6   \\\\\n",
       "\\end{tabular}\n"
      ],
      "text/markdown": [
       "\n",
       "extra | group | ID | \n",
       "|---|---|---|---|---|---|\n",
       "|  0.7 | 1    | 1    | \n",
       "| -1.6 | 1    | 2    | \n",
       "| -0.2 | 1    | 3    | \n",
       "| -1.2 | 1    | 4    | \n",
       "| -0.1 | 1    | 5    | \n",
       "|  3.4 | 1    | 6    | \n",
       "\n",
       "\n"
      ],
      "text/plain": [
       "  extra group ID\n",
       "1  0.7  1     1 \n",
       "2 -1.6  1     2 \n",
       "3 -0.2  1     3 \n",
       "4 -1.2  1     4 \n",
       "5 -0.1  1     5 \n",
       "6  3.4  1     6 "
      ]
     },
     "metadata": {},
     "output_type": "display_data"
    }
   ],
   "source": [
    "#help(sleep) #Data which show the effect of two soporific drugs (increase in hours of sleep compared to control) on 10 patients.\n",
    "\n",
    "head(sleep)\n",
    "#A data frame with 20 observations on 3 variables.\n",
    "\n",
    "#[, 1]\textra\tnumeric\tincrease in hours of sleep (extra hours of sleep)\n",
    "#[, 2]\tgroup\tfactor\tdrug given (drug-id)\n",
    "#[, 3]\tID\tfactor\tpatient ID (patient-id)"
   ]
  },
  {
   "cell_type": "code",
   "execution_count": 6,
   "metadata": {},
   "outputs": [
    {
     "data": {
      "image/png": "[encoded data removed]",
      "text/plain": [
       "Plot with title \"extra sleep hours vs drug-id\""
      ]
     },
     "metadata": {},
     "output_type": "display_data"
    }
   ],
   "source": [
    "#let's plot the data\n",
    "plot(extra ~ group, data=sleep,main='extra sleep hours vs drug-id')"
   ]
  },
  {
   "cell_type": "markdown",
   "metadata": {},
   "source": [
    "#### remember that bold line in above box-plot is median and not median\n",
    "#### box represents inter-quartile range (50% of data points)"
   ]
  },
  {
   "cell_type": "code",
   "execution_count": 9,
   "metadata": {},
   "outputs": [
    {
     "name": "stderr",
     "output_type": "stream",
     "text": [
      "The following objects are masked from sleep (pos = 3):\n",
      "\n",
      "    extra, group, ID\n",
      "\n",
      "The following objects are masked from sleep (pos = 4):\n",
      "\n",
      "    extra, group, ID\n",
      "\n"
     ]
    }
   ],
   "source": [
    "attach(sleep)\n",
    "extra.1 = extra[group==1]\n",
    "extra.2 = extra[group==2]"
   ]
  },
  {
   "cell_type": "markdown",
   "metadata": {},
   "source": [
    "## Independence (difference) test between two drug effects\n",
    "### Though it is very obvious from the above box plot that drug-2 is effective compared to drug-2, let's run a hypothesis test to understand the difference"
   ]
  },
  {
   "cell_type": "code",
   "execution_count": 14,
   "metadata": {},
   "outputs": [
    {
     "data": {
      "text/plain": [
       "\n",
       "\tPaired t-test\n",
       "\n",
       "data:  extra.1 and extra.2\n",
       "t = -4.0621, df = 9, p-value = 0.002833\n",
       "alternative hypothesis: true difference in means is not equal to 0\n",
       "95 percent confidence interval:\n",
       " -2.4598858 -0.7001142\n",
       "sample estimates:\n",
       "mean of the differences \n",
       "                  -1.58 \n"
      ]
     },
     "metadata": {},
     "output_type": "display_data"
    }
   ],
   "source": [
    "#Test our hypothesis that two drugs are different\n",
    "### Hypothesis test of independence\n",
    "t.test(extra.1,extra.2,paired = T,alternative = 'two.sided')\n",
    "#null hupothesis is that 'true-difference' is zero (ie, the mean response for both drugs are same)\n",
    "# t-value is too-off (like almost 4 standard deviations from mean)\n",
    "# also p-value is too small that we can reject the null-hypothesis\n",
    "# so there is a clear difference between two drugs"
   ]
  },
  {
   "cell_type": "markdown",
   "metadata": {},
   "source": [
    "### let's unpack the above output !\n",
    "    1. null hypothesis H_0 : mean response is same for both drugs\n",
    "                    H_0 = mu(drug1)-mu(drug2)=0\n",
    "    2. alternative hypothesis H_1 : mean response is different for both drugs\n",
    "                    H_0 = mu(drug1)-mu(drug2) != 0\n",
    "                   "
   ]
  },
  {
   "cell_type": "code",
   "execution_count": null,
   "metadata": {},
   "outputs": [],
   "source": []
  }
 ],
 "metadata": {
  "kernelspec": {
   "display_name": "R",
   "language": "R",
   "name": "ir"
  },
  "language_info": {
   "codemirror_mode": "r",
   "file_extension": ".r",
   "mimetype": "text/x-r-source",
   "name": "R",
   "pygments_lexer": "r",
   "version": "3.4.3"
  }
 },
 "nbformat": 4,
 "nbformat_minor": 2
}
