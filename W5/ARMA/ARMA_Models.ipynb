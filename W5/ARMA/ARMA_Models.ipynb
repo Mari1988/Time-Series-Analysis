{
 "cells": [
  {
   "cell_type": "markdown",
   "metadata": {},
   "source": [
    "## Mixed Models - ARMA(p,q)\n",
    "\n",
    "$X_t = Noise + Auto\\_Regressive\\ part + Moving\\_Average\\ part$\n",
    "\n",
    "ie,\n",
    "\n",
    "$X_t = Z_t + \\phi_1X_{t-1}+\\phi_2X_{t-2}+...+\\phi_pX_{t-p}+\\theta_1Z_{t-1}+\\theta_2Z_{t-2}+...+\\theta_qZ_{t-q}$"
   ]
  },
  {
   "cell_type": "markdown",
   "metadata": {},
   "source": [
    "* In terms of backward operator, above equation can be rewritten as,\n",
    "\n",
    "$X_t = Z_t + \\phi_1X_tB+\\phi_2X_tB^2+...+\\phi_pX_tB^p+\\theta_1Z_tB+\\theta_2Z_tB^2+...+\\theta_qZ_tB^q $"
   ]
  },
  {
   "cell_type": "markdown",
   "metadata": {},
   "source": [
    "* From above equation (only the AR part), noise can be rewritten as\n",
    "\n",
    "$Z_t = X_t(1-\\phi_1B-\\phi_2B^2-...-\\phi_pB^p)$\n",
    "\n",
    "$Z_t = X_t\\phi(B)$ \n",
    "\n",
    "where,\n",
    "\n",
    "$\\phi(B)=1-\\phi_1B-\\phi_2B^2-...-\\phi_pB^p$"
   ]
  },
  {
   "cell_type": "markdown",
   "metadata": {},
   "source": [
    "Similarly moving backward difference of average part can also be written as\n",
    "\n",
    "<img src =\"ARMA_backward_difference_operator.PNG\">"
   ]
  },
  {
   "cell_type": "markdown",
   "metadata": {},
   "source": [
    "Now based on above expressions, we can rewrite ARMA expression as,\n",
    "\n",
    "$\\phi(B)X_t=\\theta(B)Z_t$\n",
    "\n",
    "$X_t = \\frac{\\theta(B)}{\\phi(B)}Z_t$\n",
    "\n",
    "But how do we handle, $\\psi = \\frac{\\theta(B)}{\\phi(B)}$"
   ]
  },
  {
   "cell_type": "markdown",
   "metadata": {},
   "source": [
    "<img src =\"ARMA_as_infinite_sum_of_ma_process.PNG\">"
   ]
  },
  {
   "cell_type": "markdown",
   "metadata": {},
   "source": [
    "# Thus we expressed ARMA model as infinite sum of MA process"
   ]
  },
  {
   "cell_type": "code",
   "execution_count": 1,
   "metadata": {
    "scrolled": false
   },
   "outputs": [
    {
     "data": {
      "image/png": "[encoded data removed]",
      "text/plain": [
       "Plot with title \"ACF\""
      ]
     },
     "metadata": {},
     "output_type": "display_data"
    }
   ],
   "source": [
    "#Let's try to simulate following ARMA process\n",
    "#X_t = Z_t+.7*X_{t-1}++.2*Z_{t-1}\n",
    "\n",
    "set.seed(500)\n",
    "data <- arima.sim(list(order=c(1,0,1),ar=.7,ma=.2),n=1000000)\n",
    "\n",
    "par(mfrow=c(3,1))\n",
    "plot(data,main='ARMA(1,1) process')\n",
    "acf(data,main='ACF')\n",
    "acf(data,type='partial',main='ACF')"
   ]
  },
  {
   "cell_type": "code",
   "execution_count": 8,
   "metadata": {},
   "outputs": [],
   "source": [
    "#install.packages('forecast')\n",
    "library('forecast')\n",
    "m <- auto.arima(data,max.p = 3,max.q=3)"
   ]
  },
  {
   "cell_type": "code",
   "execution_count": 9,
   "metadata": {},
   "outputs": [
    {
     "data": {
      "text/plain": [
       "\n",
       "\tBox-Ljung test\n",
       "\n",
       "data:  resid(m)\n",
       "X-squared = 8.7364e-05, df = 1, p-value = 0.9925\n"
      ]
     },
     "metadata": {},
     "output_type": "display_data"
    }
   ],
   "source": [
    "Box.test(resid(m),type=c('Ljung-Box'))"
   ]
  },
  {
   "cell_type": "code",
   "execution_count": 10,
   "metadata": {},
   "outputs": [
    {
     "data": {
      "text/plain": [
       "Series: data \n",
       "ARIMA(1,0,1) with zero mean     \n",
       "\n",
       "Coefficients:\n",
       "         ar1     ma1\n",
       "      0.6996  0.2008\n",
       "s.e.  0.0009  0.0012\n",
       "\n",
       "sigma^2 estimated as 1:  log likelihood=-1418944\n",
       "AIC=2837893   AICc=2837893   BIC=2837929"
      ]
     },
     "metadata": {},
     "output_type": "display_data"
    }
   ],
   "source": [
    "m"
   ]
  }
 ],
 "metadata": {
  "kernelspec": {
   "display_name": "R",
   "language": "R",
   "name": "ir"
  },
  "language_info": {
   "codemirror_mode": "r",
   "file_extension": ".r",
   "mimetype": "text/x-r-source",
   "name": "R",
   "pygments_lexer": "r",
   "version": "3.4.3"
  }
 },
 "nbformat": 4,
 "nbformat_minor": 2
}
