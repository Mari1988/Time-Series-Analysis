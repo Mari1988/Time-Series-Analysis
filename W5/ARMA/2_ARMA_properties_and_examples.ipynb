{
 "cells": [
  {
   "cell_type": "markdown",
   "metadata": {},
   "source": [
    "## Objective\n",
    "\n",
    "    1. Estimate coefficients of ARMA process\n",
    "    2. Select the parsimonious model"
   ]
  },
  {
   "cell_type": "markdown",
   "metadata": {},
   "source": [
    "#### Here is how to interpret the ACF and PACF plot in the case of ARMA process\n",
    "\n",
    "<img src =\"ACF_PACF_Plot_Guidance.PNG\">"
   ]
  },
  {
   "cell_type": "code",
   "execution_count": 1,
   "metadata": {},
   "outputs": [],
   "source": [
    "library('forecast')"
   ]
  },
  {
   "cell_type": "code",
   "execution_count": 2,
   "metadata": {},
   "outputs": [
    {
     "data": {
      "text/plain": [
       "Series: discoveries \n",
       "ARIMA(2,0,0) with non-zero mean \n",
       "\n",
       "Coefficients:\n",
       "         ar1     ar2    mean\n",
       "      0.2251  0.1929  3.0877\n",
       "s.e.  0.0985  0.0984  0.3594\n",
       "\n",
       "sigma^2 estimated as 4.605:  log likelihood=-216.81\n",
       "AIC=441.62   AICc=442.04   BIC=452.04"
      ]
     },
     "metadata": {},
     "output_type": "display_data"
    }
   ],
   "source": [
    "m <- auto.arima(discoveries,d=0,approximation = F)\n",
    "m"
   ]
  },
  {
   "cell_type": "code",
   "execution_count": 3,
   "metadata": {},
   "outputs": [
    {
     "data": {
      "text/plain": [
       "\n",
       "\tBox-Ljung test\n",
       "\n",
       "data:  resid(m)\n",
       "X-squared = 0.071048, df = 1, p-value = 0.7898\n"
      ]
     },
     "metadata": {},
     "output_type": "display_data"
    }
   ],
   "source": [
    "Box.test(resid(m),type=c('Ljung-Box'))"
   ]
  },
  {
   "cell_type": "code",
   "execution_count": 4,
   "metadata": {},
   "outputs": [],
   "source": [
    "#we can set AIC or BIC as information-criterion in auto.arima function\n",
    "m1 <- auto.arima(discoveries,d=0,ic='aic',approximation = F)\n",
    "m2 <- auto.arima(discoveries,d=0,ic='bic',approximation = F)"
   ]
  },
  {
   "cell_type": "code",
   "execution_count": 5,
   "metadata": {},
   "outputs": [
    {
     "data": {
      "text/plain": [
       "Series: discoveries \n",
       "ARIMA(3,0,0) with non-zero mean \n",
       "\n",
       "Coefficients:\n",
       "         ar1     ar2     ar3    mean\n",
       "      0.1967  0.1613  0.1451  3.0637\n",
       "s.e.  0.0995  0.0998  0.1007  0.4136\n",
       "\n",
       "sigma^2 estimated as 4.556:  log likelihood=-215.78\n",
       "AIC=441.57   AICc=442.2   BIC=454.59"
      ]
     },
     "metadata": {},
     "output_type": "display_data"
    }
   ],
   "source": [
    "m1 #AIC model"
   ]
  },
  {
   "cell_type": "code",
   "execution_count": 6,
   "metadata": {},
   "outputs": [
    {
     "data": {
      "text/plain": [
       "Series: discoveries \n",
       "ARIMA(1,0,1) with non-zero mean \n",
       "\n",
       "Coefficients:\n",
       "         ar1      ma1    mean\n",
       "      0.8353  -0.6243  3.0208\n",
       "s.e.  0.1379   0.1948  0.4728\n",
       "\n",
       "sigma^2 estimated as 4.538:  log likelihood=-216.1\n",
       "AIC=440.2   AICc=440.62   BIC=450.62"
      ]
     },
     "metadata": {},
     "output_type": "display_data"
    }
   ],
   "source": [
    "m2 #BIC model"
   ]
  }
 ],
 "metadata": {
  "kernelspec": {
   "display_name": "R",
   "language": "R",
   "name": "ir"
  },
  "language_info": {
   "codemirror_mode": "r",
   "file_extension": ".r",
   "mimetype": "text/x-r-source",
   "name": "R",
   "pygments_lexer": "r",
   "version": "3.4.3"
  }
 },
 "nbformat": 4,
 "nbformat_minor": 2
}
