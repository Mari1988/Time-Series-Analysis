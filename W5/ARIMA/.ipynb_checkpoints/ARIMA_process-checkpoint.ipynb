{
 "cells": [
  {
   "cell_type": "markdown",
   "metadata": {},
   "source": [
    "# Objective\n",
    "\n",
    "    1. Describe Auto-Regressive Integrated Moving-Average (ARIMA) process\n",
    "    2. Rewrite ARIMA process in terms of backshift and difference operator"
   ]
  },
  {
   "cell_type": "markdown",
   "metadata": {},
   "source": [
    "## Recap of ARMA process\n",
    "\n",
    "$X_t = Z_t + \\phi_1X_{t-1}+\\phi_2X_{t-2}+...+\\phi_pX_{t-p}+\\beta_1Z_{t-1}+\\beta_2Z_{t-2}+...+\\beta_qZ_{t-q}$\n",
    "\n",
    "which can be rewritten as,\n",
    "\n",
    "$X_t\\phi(B)=\\beta(B)Z_t$ using ** backshift ** operator\n",
    "\n",
    "where,\n",
    "\n",
    "$\\beta(B) = \\beta_0+\\beta_1B+\\beta_2B^2+...+\\beta_qB^q$ <br>\n",
    "\n",
    "$\\phi(B) = \\phi_0-\\phi_1B-\\phi_2B^2+...-\\phi_pB^p$"
   ]
  },
  {
   "cell_type": "markdown",
   "metadata": {},
   "source": [
    "### Why do we need differencing ? (integrated part of ARIMA)\n",
    "\n",
    "*First of all, the purpose of differencing is to remove the systematic trend in the data and make the time-series stationary*\n",
    "\n",
    "Because,\n",
    "\n",
    "    1. Real world data is non-stationary generally\n",
    "    2. There is a systematic trend in the data\n",
    "    3. So we need to remove the trend\n",
    "    3. Difference operator is to the rescue, $difference-operator = 1-B$\n",
    "    \n",
    " $\\triangledown = 1-B$ "
   ]
  },
  {
   "cell_type": "markdown",
   "metadata": {},
   "source": [
    "### Difference operator\n",
    "\n",
    "remember that,\n",
    "\n",
    "$\\triangledown X_t = X_t-X_{t-1}=(1-B)X_t$\n",
    "\n",
    "remember *random walk* model, \n",
    "\n",
    "$X_t = Z_t + X_{t-1}$\n",
    "\n",
    "$\\triangledown X_t = Z_t$"
   ]
  },
  {
   "cell_type": "markdown",
   "metadata": {},
   "source": [
    "### Transition from ARMA to ARIMA\n",
    "\n",
    "based on number of differencing,\n",
    "\n",
    "$\\triangledown X_t=(1-B)X_t$\n",
    "\n",
    "can be re-written as,\n",
    "\n",
    "$\\triangledown^d X_t = (1-B)^dX_t$\n",
    "\n",
    "now let's say,\n",
    "\n",
    "$Y_t = \\triangledown^d X_t$\n",
    "\n",
    "Thus, ARMA model of order p,q of $Y_t$ will become ARIMA(p,d,q) of $X_t$"
   ]
  },
  {
   "cell_type": "markdown",
   "metadata": {},
   "source": [
    "### d - order of differencing\n",
    "\n",
    "    1. d=1 or d=2\n",
    "    2. over differencing may introuduce dependence\n",
    "    3. ACF may suggest if differencing is needed\n",
    "    4. ACF will decay slowly"
   ]
  }
 ],
 "metadata": {
  "kernelspec": {
   "display_name": "R",
   "language": "R",
   "name": "ir"
  },
  "language_info": {
   "codemirror_mode": "r",
   "file_extension": ".r",
   "mimetype": "text/x-r-source",
   "name": "R",
   "pygments_lexer": "r",
   "version": "3.4.3"
  }
 },
 "nbformat": 4,
 "nbformat_minor": 2
}
