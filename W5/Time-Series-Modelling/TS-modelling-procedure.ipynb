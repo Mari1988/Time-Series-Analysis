{
 "cells": [
  {
   "cell_type": "markdown",
   "metadata": {},
   "source": [
    "## Modelling procedure,\n",
    "\n",
    "    1. See if Trend exists in the data. * Trend suggests differencing *\n",
    "    2. Variation in variance suggests * transformation *\n",
    "    3. Common transformation: Log and then differencing\n",
    "    4. It's also called as * Log return *\n",
    "    5. Look at ACF to understand the order of MA process\n",
    "    6. Look at PACF to understand the order of AR process\n",
    "    7. Parsimonious model Quality and selection principle : AIC\n",
    "    8. Look at SSE\n",
    "    9. Whiteness diagnostics (Ljung-Box Q statistic)\n",
    "    10. Estimation"
   ]
  }
 ],
 "metadata": {
  "kernelspec": {
   "display_name": "R",
   "language": "R",
   "name": "ir"
  },
  "language_info": {
   "codemirror_mode": "r",
   "file_extension": ".r",
   "mimetype": "text/x-r-source",
   "name": "R",
   "pygments_lexer": "r",
   "version": "3.4.3"
  }
 },
 "nbformat": 4,
 "nbformat_minor": 2
}
