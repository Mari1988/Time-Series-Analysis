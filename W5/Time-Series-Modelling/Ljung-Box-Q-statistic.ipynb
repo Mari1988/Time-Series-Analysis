{
 "cells": [
  {
   "cell_type": "markdown",
   "metadata": {},
   "source": [
    "## Objective\n",
    "\n",
    "    1. Describe Ljung-Box Q-statistic\n",
    "    2. Learn about Null hypothesis of Q-statistic\n",
    "    3. Simulate in R"
   ]
  },
  {
   "cell_type": "markdown",
   "metadata": {},
   "source": [
    "### Portmanteau Statistic\n",
    "\n",
    "Box and Pierce (1970) introduced Portmanteau statistic which is defined as follows,\n",
    "\n",
    "$Q^*(m) = T\\sum_{i=1}^{m} r_i^2$\n",
    "\n",
    "Where, \n",
    "\n",
    "m - number of lags\n",
    "\n",
    "$r_i$ - auto-correlation coeffecients at lag i\n",
    "\n",
    "$T$ - length of the time-series\n",
    "\n",
    "Also they found that,\n",
    "\n",
    "Under i.i.d condition of $\\{r_t\\}$\n",
    "\n",
    "$Q^*(m)$ follows $\\chi^2$ distribution with lag=m\n",
    "\n",
    "note : iid means 'independent & identically distributed'\n"
   ]
  },
  {
   "cell_type": "markdown",
   "metadata": {},
   "source": [
    "### Ljung-Box\n",
    "\n",
    "Ljung-Box made this test more powerful for the finite time series\n",
    "\n",
    "\n",
    "$Q(m) = T(T+2)\\sum_{i=1}^{m} \\frac{r_i^2}{T-i}$\n"
   ]
  },
  {
   "cell_type": "markdown",
   "metadata": {},
   "source": [
    "## Decision Rule\n",
    "\n",
    "We usually reject the *null hypothesis* if p-value is less than a particular significant value $\\alpha$ (.05 usually)\n",
    "\n",
    "ie, $p < \\alpha$\n",
    "\n",
    "So what is the *null hypothesis* here ?\n",
    "\n",
    "Null hypothesis : $\\rho(1)=0, \\rho(2)=0,...,\\rho(m)=0$\n",
    "\n",
    "**So for this test , we prefer p-value to be larger than .05 **\n",
    "\n",
    "\n",
    "Remember : We need to test the residual of ARIMA model to check for whiteness"
   ]
  },
  {
   "cell_type": "markdown",
   "metadata": {},
   "source": [
    "### Choice of 'm'\n",
    "\n",
    "$m \\approx ln(T)$\n",
    "\n",
    "Thus, in R we use,\n",
    "\n",
    "*Box.test(data,lag=ln(T))*"
   ]
  }
 ],
 "metadata": {
  "kernelspec": {
   "display_name": "R",
   "language": "R",
   "name": "ir"
  },
  "language_info": {
   "codemirror_mode": "r",
   "file_extension": ".r",
   "mimetype": "text/x-r-source",
   "name": "R",
   "pygments_lexer": "r",
   "version": "3.4.3"
  }
 },
 "nbformat": 4,
 "nbformat_minor": 2
}
