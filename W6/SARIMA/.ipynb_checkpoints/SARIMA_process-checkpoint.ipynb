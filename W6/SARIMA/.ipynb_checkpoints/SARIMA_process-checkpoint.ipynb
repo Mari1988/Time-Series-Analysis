{
 "cells": [
  {
   "cell_type": "markdown",
   "metadata": {},
   "source": [
    "# *Objective*\n",
    "\n",
    "    1. Describe SARIMA (Seasonal ARIMA process)\n",
    "    2. Rewrite SARIMA process using backshift and difference operator"
   ]
  }
 ],
 "metadata": {
  "kernelspec": {
   "display_name": "R",
   "language": "R",
   "name": "ir"
  },
  "language_info": {
   "codemirror_mode": "r",
   "file_extension": ".r",
   "mimetype": "text/x-r-source",
   "name": "R",
   "pygments_lexer": "r",
   "version": "3.4.3"
  }
 },
 "nbformat": 4,
 "nbformat_minor": 2
}
